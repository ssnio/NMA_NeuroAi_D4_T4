{
 "cells": [
  {
   "cell_type": "markdown",
   "metadata": {
    "colab_type": "text",
    "execution": {},
    "id": "view-in-github"
   },
   "source": [
    "<a href=\"https://colab.research.google.com/github/neuromatch/course-content-template/blob/main/tutorials/W1D2_Template/W1D2_Tutorial1.ipynb\" target=\"_parent\"><img src=\"https://colab.research.google.com/assets/colab-badge.svg\" alt=\"Open In Colab\"/></a> &nbsp; <a href=\"https://kaggle.com/kernels/welcome?src=https://raw.githubusercontent.com/neuromatch/course-content-template/main/tutorials/W1D2_Template/W1D2_Tutorial1.ipynb\" target=\"_parent\"><img src=\"https://kaggle.com/static/images/open-in-kaggle.svg\" alt=\"Open in Kaggle\"/></a>"
   ]
  },
  {
   "cell_type": "markdown",
   "metadata": {
    "execution": {}
   },
   "source": [
    "# Tutorial 4.(last part): Inductive Biases in Self-Attention Mechanisms\n",
    "\n",
    "**Week [1], Day [4]: [Micro-Circuits]**\n",
    "\n",
    "**By Sciencematch Academy** # update to the correct academy\n",
    "\n",
    "__Content creators:__ Names & Surnames\n",
    "\n",
    "__Content reviewers:__ Names & Surnames\n",
    "\n",
    "__Production editors:__ Names & Surnames\n",
    "\n",
    "<br>\n",
    "\n",
    "Acknowledgments: [ACKNOWLEDGMENT_INFORMATION]\n"
   ]
  },
  {
   "cell_type": "markdown",
   "metadata": {
    "execution": {}
   },
   "source": [
    "___\n",
    "\n",
    "Use a line (---) separator from title block to objectives. \n",
    "\n",
    "# Tutorial Objectives\n",
    "\n",
    "*Estimated timing of tutorial: [insert estimated duration of whole tutorial in minutes]*\n",
    "\n",
    "Transformers have been surprisingly successful in almost every modality in ML, surpassing every other deep-learning model in performance and generalization especially in sequence generation and self-supervised representation learning.\n",
    "\n",
    "But unlike MultiLayer fully connected Perceptrons (MLPs), Recurrent Neural Networks (RNNs), and Convolution Neural Nets (CNNs), transformer architecture seems to have no explicit inductive bias. This goes against the common understanding in machine learning, that to achieve good generalization, one must exploit the geometry of data and problem and build the necessary symmetries into the architecture.\n",
    "\n",
    "This raises the question of whether we can find a class of functions (i.e. set of problems) that transformers excel at in representing. To this end, here we try to present the results from [Inductive Biases and Variable Creation in Self-Attention Mechanisms](https://arxiv.org/abs/2110.10090) which shows that a single self-attention head can successfully learn to represent a sparse-function with an extremely efficient sample-complexity. Although the original paper is rather focused on the rigorous proof of the claims, in this tutorial we will show-case their findings and general message. *Throughout this tutorial, we will refer to the aforementioned paper as \"the paper\".*\n",
    "\n",
    "**Tutorial Learning Structure**\n",
    "* We first introduce class of *s-sparce binary AND functions*\n",
    "* You then train an MLP model on an s-sparse AND dataset for classification task\n",
    "* We present a basic self-attention architecture for classification (similar to those used in BERT and ViT)\n",
    "* Next you should train the transformer model on the s-sparse AND dataset for classification task\n",
    "* Finally, we compare the results from both architecture.\n",
    "\n",
    "**Tutorial Learning Objectives**\n",
    "By the end you should:\n",
    "* feel familiar with the self-attention architecture\n",
    "* \n",
    "\n",
    "**References**:\n",
    "- The transformer code is from \"https://github.com/MathInf/toroidal\" by Thomas Viehmann\n",
    "- The content and results are inspired by \"Edelman et al. (2022), [Inductive Biases and Variable Creation in Self-Attention Mechanisms](https://proceedings.mlr.press/v162/edelman22a.html)\""
   ]
  },
  {
   "cell_type": "markdown",
   "metadata": {
    "execution": {}
   },
   "source": [
    "Tutorial Slides \"link_id\"s will be added in below by the curriculum or production team. You do not need to do anything but leave the block of code below here."
   ]
  },
  {
   "cell_type": "code",
   "execution_count": 1,
   "metadata": {
    "cellView": "form",
    "execution": {}
   },
   "outputs": [
    {
     "name": "stdout",
     "output_type": "stream",
     "text": [
      "If you want to download the slides: 'Link to the slides'\n"
     ]
    }
   ],
   "source": [
    "# @title Tutorial slides\n",
    "\n",
    "# @markdown These are the slides for the videos in all tutorials today\n",
    "\n",
    "\n",
    "## Uncomment the code below to test your function\n",
    "\n",
    "#from IPython.display import IFrame\n",
    "#link_id = \"<YOUR_LINK_ID_HERE>\"\n",
    "\n",
    "print(\"If you want to download the slides: 'Link to the slides'\")\n",
    "      # Example: https://osf.io/download/{link_id}/\n",
    "\n",
    "#IFrame(src=f\"https://mfr.ca-1.osf.io/render?url=https://osf.io/download/{link_id}/?direct%26mode=render\", width=854, height=480)"
   ]
  },
  {
   "cell_type": "markdown",
   "metadata": {
    "execution": {}
   },
   "source": [
    "---\n",
    "# Setup\n",
    "\n"
   ]
  },
  {
   "cell_type": "code",
   "execution_count": 2,
   "metadata": {
    "cellView": "form",
    "execution": {}
   },
   "outputs": [],
   "source": [
    "# @title Install and import feedback gadget\n",
    "\n",
    "# note this is not relevant for climatematch at the moment\n",
    "\n",
    "!pip3 install vibecheck datatops --quiet\n",
    "\n",
    "from vibecheck import DatatopsContentReviewContainer\n",
    "def content_review(notebook_section: str):\n",
    "    return DatatopsContentReviewContainer(\n",
    "        \"\",  # No text prompt - leave this as is\n",
    "        notebook_section,\n",
    "        {\n",
    "            \"url\": \"https://pmyvdlilci.execute-api.us-east-1.amazonaws.com/klab\",\n",
    "            \"name\": \"sciencematch_sm\", # change the name of the course : neuromatch_dl, climatematch_ct, etc\n",
    "            \"user_key\": \"y1x3mpx5\",\n",
    "        },\n",
    "    ).render()\n",
    "\n",
    "# Define the feedback prefix: Replace 'weeknumber' and 'daynumber' with appropriate values, underscore followed by T(stands for tutorial) and the number of the tutorial\n",
    "# e.g., W1D1_T1\n",
    "feedback_prefix = \"W*weeknumber*D*daynumber*_T*tutorialNumber*\""
   ]
  },
  {
   "cell_type": "code",
   "execution_count": 3,
   "metadata": {
    "execution": {}
   },
   "outputs": [],
   "source": [
    "# Imports\n",
    "import random as pyrandom  # to avoid confusion with np.random\n",
    "import torch\n",
    "import matplotlib.pyplot as plt\n"
   ]
  },
  {
   "cell_type": "code",
   "execution_count": 4,
   "metadata": {
    "cellView": "form",
    "execution": {}
   },
   "outputs": [],
   "source": [
    "# @title Figure settings\n",
    "\n",
    "# logging.getLogger('matplotlib.font_manager').disabled = True\n",
    "\n",
    "%matplotlib inline\n",
    "%config InlineBackend.figure_format = 'retina' # perfrom high definition rendering for images and plots\n",
    "plt.style.use(\"https://raw.githubusercontent.com/NeuromatchAcademy/course-content/main/nma.mplstyle\") # update this to match your course"
   ]
  },
  {
   "cell_type": "code",
   "execution_count": 34,
   "metadata": {
    "cellView": "form",
    "execution": {}
   },
   "outputs": [],
   "source": [
    "# @title Plotting functions\n",
    "def plot_loss_accuracy(t_loss, t_acc, v_loss = None, v_acc = None):\n",
    "    plt.figure(figsize=(15, 4))\n",
    "    plt.suptitle(\"Training and Validation for the Transformer Model\")\n",
    "    plt.subplot(1, 2, 1)\n",
    "    plt.plot(t_loss, label=\"Training loss\", color=\"red\")\n",
    "    if v_loss is not None:\n",
    "        # plt.plot(v_loss, label=\"Valididation loss\", color=\"blue\")\n",
    "        plt.scatter(len(t_loss)-1, v_loss, label=\"Validation loss\", color=\"blue\", marker=\"*\")\n",
    "        # plt.text(len(t_loss)-1, v_loss, f\"{v_loss:.3f}\", va=\"bottom\", ha=\"right\")\n",
    "    plt.yscale(\"log\")\n",
    "    plt.xlabel(\"Epoch\")\n",
    "    plt.ylabel(\"Loss\")\n",
    "    plt.xticks([])\n",
    "    plt.legend(loc=\"lower right\")\n",
    "    plt.subplot(1, 2, 2)\n",
    "    plt.plot(t_acc, label=\"Training accuracy\", color=\"red\", linestyle=\"dotted\")\n",
    "    if v_acc is not None:\n",
    "        # plt.plot(v_acc, label=\"Validation accuracy\", color=\"blue\", linestyle=\"--\")\n",
    "        plt.scatter(len(t_acc)-1, v_acc, label=\"Validation accuracy\", color=\"blue\", marker=\"*\")\n",
    "        # plt.text(len(t_acc)-1, v_acc, f\"{v_acc:.3f}\", va=\"bottom\", ha=\"right\")\n",
    "    plt.xticks([])\n",
    "    plt.ylim(0, 1)\n",
    "    plt.xlabel(\"Epoch\")\n",
    "    plt.ylabel(\"Accuracy\")\n",
    "    plt.legend(loc=\"lower right\")\n",
    "    plt.show()\n",
    "\n",
    "def plot_samples(X_plot, y_plot, correct_ids):\n",
    "    n_samples, seq_length = X_plot.shape\n",
    "    fig, axs = plt.subplots(1, 2, figsize=(16, 2.5), sharey=True)\n",
    "    rects = []\n",
    "    for ri in correct_ids:\n",
    "        rects.append(plt.Rectangle((ri-0.5, -0.5), 1, n_samples, edgecolor=\"red\", alpha=1.0, fill=False, linewidth=2))\n",
    "    axs[0].imshow(X_plot, cmap=\"binary\")\n",
    "    for rect in rects:\n",
    "        axs[0].add_patch(rect)\n",
    "    # axs[0].axis(\"off\")\n",
    "    axs[0].set_yticks([])\n",
    "    axs[0].set_xticks([])\n",
    "    axs[0].set_ylabel(\"Context\")\n",
    "    axs[0].set_xlabel(\"Samples\")\n",
    "    axs[1].imshow(y_plot, cmap=\"binary\")\n",
    "    axs[1].add_patch(plt.Rectangle((-0.5, -0.5), 1, n_samples, edgecolor=\"black\", alpha=1.0, fill=False, linewidth=2))\n",
    "    axs[1].yaxis.set_label_position(\"right\")\n",
    "    axs[1].set_ylabel(\"Labels\")\n",
    "    axs[1].set_yticks([])\n",
    "    axs[1].set_xticks([])\n",
    "    plt.subplots_adjust(wspace=-1)\n",
    "    plt.tight_layout()\n",
    "    plt.show()\n",
    "\n",
    "def plot_attention_weights(att_weights, correct_ids, context_length):\n",
    "    aw_flatten = att_weights.view(-1, context_length+1)\n",
    "    n_weights = aw_flatten.size(0)\n",
    "    fig, ax = plt.subplots(figsize=(9, 5))\n",
    "    for i in range(context_length+1):\n",
    "        ax.scatter(torch.full((n_weights, ), i) , aw_flatten[:, i], alpha=0.1, c='blue')\n",
    "    rects = []\n",
    "    for ri in correct_ids:\n",
    "        rects.append(plt.Rectangle((ri-0.5, 1e-6), 1.0, 2.0, edgecolor=\"red\", alpha=1.0, fill=False, linewidth=2))\n",
    "    for rect in rects:\n",
    "        ax.add_patch(rect)\n",
    "    plt.yscale(\"log\")\n",
    "    plt.ylim(1e-6, 2)\n",
    "    plt.title(\"Attention weights\")\n",
    "    plt.xlabel(\"Boolean input index t\")\n",
    "    plt.ylabel(\"Attention weight\")\n",
    "    plt.show()\n"
   ]
  },
  {
   "cell_type": "code",
   "execution_count": 6,
   "metadata": {
    "cellView": "form",
    "execution": {}
   },
   "outputs": [],
   "source": [
    "#@title Data retrieval\n",
    "class s_Sparse_Boolean:  # 1-Dimensional AND\n",
    "    def __init__(self, T: int, s: int):\n",
    "        self.T = T # context length\n",
    "        self.s = s # sparsity\n",
    "        self.p = 0.5**(1.0/3.0)  # probability chosen for balanced data\n",
    "        self.f_i = None\n",
    "\n",
    "    def pick_an_f(self):\n",
    "        self.f_i = sorted(pyrandom.sample(range(self.T), 3))\n",
    "        self.others = list(i for i in range(self.T) if i not in self.f_i)\n",
    "\n",
    "    def generate(self, m: int, split: str = \"train\", verbose: bool = False):\n",
    "        if self.f_i is None:\n",
    "            self.pick_an_f()\n",
    "        max_try = 100\n",
    "        i_try = 0\n",
    "        while i_try < max_try:\n",
    "            i_try += 1\n",
    "            X, y = torch.zeros(m, self.T), torch.zeros(m, 1)\n",
    "            X[torch.rand(m, self.T) < self.p] = 1\n",
    "            y[X[:, self.f_i].sum(dim=1) == self.s] = 1\n",
    "            if y.sum()/m < 0.4 or y.sum()/m > 0.6:\n",
    "                verbose and print(f\"Large imbalance in the training set {y.sum()/m}, retrying...\")\n",
    "                continue\n",
    "            else:\n",
    "                verbose and print(f\"Data-label balance: {y.sum()/m}\")\n",
    "            if split == \"train\":  # currently we choose not to do this\n",
    "                bad_batch = False\n",
    "                for i in self.f_i:\n",
    "                    for o in self.others:\n",
    "                        if (X[:, i] == X[:, o]).all():\n",
    "                            verbose and print(f\"Found at least another compatible hypothesis {i} and {o}\")\n",
    "                            bad_batch = True\n",
    "                            break\n",
    "                if bad_batch:\n",
    "                    continue\n",
    "                else:\n",
    "                    break\n",
    "            else:\n",
    "                break\n",
    "        else:\n",
    "            print(\"Could not find a compatible hypothesis\")\n",
    "        return X.long(), y.float()\n"
   ]
  },
  {
   "cell_type": "code",
   "execution_count": 7,
   "metadata": {
    "cellView": "form",
    "execution": {}
   },
   "outputs": [],
   "source": [
    "# @title Helper functions\n",
    "\n",
    "class BinaryMLP(torch.nn.Module):\n",
    "    def __init__(self, in_dims, h_dims, out_dims, dropout=0.1):\n",
    "        super().__init__()\n",
    "        self.in_dims = in_dims\n",
    "        self.h_dims = h_dims\n",
    "        self.out_dims = out_dims\n",
    "\n",
    "        self.layers = torch.nn.ModuleList()\n",
    "        self.layers.append(torch.nn.Linear(in_dims, h_dims[0]))\n",
    "        torch.nn.init.normal_(self.layers[-1].weight, std=0.02)\n",
    "        torch.nn.init.zeros_(self.layers[-1].bias)\n",
    "        self.layers.append(torch.nn.GELU())\n",
    "        self.layers.append(torch.nn.Dropout(dropout))\n",
    "        for i in range(len(h_dims) - 1):\n",
    "            self.layers.append(torch.nn.Linear(h_dims[i], h_dims[i+1]))\n",
    "            torch.nn.init.normal_(self.layers[-1].weight, std=0.02)\n",
    "            torch.nn.init.zeros_(self.layers[-1].bias)\n",
    "            self.layers.append(torch.nn.GELU())\n",
    "            self.layers.append(torch.nn.Dropout(dropout))\n",
    "        self.layers.append(torch.nn.Linear(h_dims[-1], out_dims))\n",
    "        self.layers.append(torch.nn.Sigmoid())\n",
    "\n",
    "    def forward(self, x):\n",
    "        for layer in self.layers:\n",
    "            x = layer(x)\n",
    "        return x\n",
    "\n",
    "\n",
    "def bin_acc(y_hat, y):\n",
    "    \"\"\"\n",
    "    Compute the binary accuracy\n",
    "    \"\"\"\n",
    "    y_ = y_hat.round()\n",
    "    TP_TN = (y_ == y).float().sum().item()\n",
    "    FP_FN = (y_ != y).float().sum().item()\n",
    "    assert TP_TN + FP_FN == y.numel(), f\"{TP_TN + FP_FN} != {y.numel()}\"\n",
    "    return TP_TN / y.numel()\n",
    "\n",
    "\n",
    "def get_n_parameters(model: torch.nn.Module):\n",
    "    \"\"\"\n",
    "    Get the number of learnable parameters in a model\n",
    "    \"\"\"\n",
    "    i = 0\n",
    "    for par in model.parameters():\n",
    "        i += par.numel()\n",
    "    return i\n",
    "\n",
    "\n",
    "def save_model(model):\n",
    "    torch.save(model.state_dict(), 'model_states.pt')\n",
    "\n",
    "\n",
    "def load_model(model):\n",
    "    model_states = torch.load('model_states.pt')\n",
    "    model.load_state_dict(model_states)\n",
    "\n",
    "def evaluator(model, criterion, X_v, y_v, device=\"cpu\"):\n",
    "    model.to(device)\n",
    "    model.eval()\n",
    "    X_v, y_v = X_v.to(device), y_v.to(device)\n",
    "    with torch.no_grad():\n",
    "        y_hat = model(X_v)\n",
    "        loss = criterion(y_hat.squeeze(), y_v.squeeze())\n",
    "        acc = bin_acc(y_hat, y_v)\n",
    "    return loss.item(), acc\n",
    "\n",
    "\n",
    "def trainer(model, optimizer, criterion, n_epochs, X_t, y_t, device=\"cpu\", verbose=False):\n",
    "    train_loss, train_acc = [], []\n",
    "    model.to(device)\n",
    "    model.train()\n",
    "    X_t, y_t = X_t.to(device), y_t.to(device)\n",
    "    for i in range(n_epochs):\n",
    "        optimizer.zero_grad(set_to_none=True)\n",
    "        y_hat = model(X_t)\n",
    "        loss_t = criterion(y_hat.squeeze(), y_t.squeeze())\n",
    "        loss_t.backward()\n",
    "        optimizer.step()\n",
    "        optimizer.zero_grad(set_to_none=True)\n",
    "        if (i + 1) % 10 == 0 or i == 0:\n",
    "            train_loss.append(loss_t.item())\n",
    "            train_acc.append(bin_acc(y_hat, y_t))\n",
    "    model.eval()\n",
    "    return train_loss, train_acc\n"
   ]
  },
  {
   "cell_type": "code",
   "execution_count": 8,
   "metadata": {
    "cellView": "form",
    "execution": {}
   },
   "outputs": [
    {
     "name": "stdout",
     "output_type": "stream",
     "text": [
      "Random seed 2014 has been set.\n"
     ]
    }
   ],
   "source": [
    "# @title Set random seed for `Python` and `PyTorch`\n",
    "\n",
    "# @markdown Executing `set_seed(seed=seed)` you are setting the seed\n",
    "\n",
    "def set_seed(seed=None):\n",
    "    if seed is None:\n",
    "        seed = pyrandom.choice([i for i in range(1, 128)])\n",
    "    pyrandom.seed(seed)\n",
    "    torch.manual_seed(seed)\n",
    "    torch.cuda.manual_seed_all(seed)\n",
    "    torch.cuda.manual_seed(seed)\n",
    "    torch.backends.cudnn.benchmark = False\n",
    "    torch.backends.cudnn.deterministic = True\n",
    "    print(f'Random seed {seed} has been set.')\n",
    "\n",
    "set_seed(seed=2014)  # Bahdanau et al. (2014)"
   ]
  },
  {
   "cell_type": "code",
   "execution_count": 9,
   "metadata": {
    "cellView": "form",
    "execution": {}
   },
   "outputs": [
    {
     "name": "stdout",
     "output_type": "stream",
     "text": [
      "MPS (Apple Silicon Metal) is enabled in this notebook.\n"
     ]
    }
   ],
   "source": [
    "# @title Set device (GPU, MPS or CPU). Execute `set_device()`\n",
    "\n",
    "def get_device():\n",
    "    if torch.cuda.is_available():\n",
    "        device = torch.device(\"cuda:0\")  # NVIDIA GPU\n",
    "        print(\"GPU is enabled in this notebook. \\n\"\n",
    "              \"If you want to disable it, in the menu under `Runtime` -> \\n\"\n",
    "              \"`Hardware accelerator.` and select `None` from the dropdown menu\")\n",
    "    elif hasattr(torch.backends, \"mps\") and torch.backends.mps.is_available() and torch.backends.mps.is_built():\n",
    "        device = torch.device(\"mps\")  # Apple Silicon (Metal)\n",
    "        print(\"MPS (Apple Silicon Metal) is enabled in this notebook.\")\n",
    "    else:\n",
    "        device = torch.device(\"cpu\")\n",
    "        print(\"GPU is not enabled in this notebook. \\n\"\n",
    "              \"If you want to enable it, in the menu under `Runtime` -> \\n\"\n",
    "              \"`Hardware accelerator.` and select `GPU` from the dropdown menu\")\n",
    "    return device\n",
    "\n",
    "device = get_device()"
   ]
  },
  {
   "cell_type": "markdown",
   "metadata": {},
   "source": [
    "---\n",
    "\n",
    "# Section 1.1: Formulation of problem\n",
    "\n",
    "Although the goal of AI researchers is to find a model architecture that could solve any problem regardless of its geometry and modality, the current state of machine learning is to rather build or tweak existing models to accomodate the necessary symmetries of the dataset. The authors of the paper identify that self-attention transformers have an inductive bias for sparse functions. They name this inductive bias as *sparse variable creation*.\n",
    "\n",
    "The sparse function we will use in this tutorial is the 3-sparse AND function. For a given sequence of length $T$ (context length) and three pre-selected unique indices, the sequence is labeled as *True* if the value of $T$ at the three indices is $1$, otherwise *False*. This means that the sequence label only depends on 3 elements of the whole sequence.\n",
    "\n",
    "$X := [x_1, x_2, ..., X_T]^{\\top}~~~~\\forall x_i \\in \\{0, 1 \\} \\\\$\n",
    "$f: \\{0, 1 \\}^T \\rightarrow \\{0, 1 \\}$\n",
    "\n",
    "Our goal is to find an DL architecture that could learn the underlying sparse-boolean function $f$ with least necessary number of training sample and best generalization error.\n"
   ]
  },
  {
   "cell_type": "markdown",
   "metadata": {},
   "source": [
    "For this tutorial we have already defined a s-sparse AND dataset generator class `s_Sparse_Boolean`, that can generate $m$ sequence with context length $T$ and sparsity of $s$. Here we visualize few samples and their corresponding labels. The red rectangles show the relevant indicies for this dataset."
   ]
  },
  {
   "cell_type": "code",
   "execution_count": 10,
   "metadata": {},
   "outputs": [
    {
     "name": "stdout",
     "output_type": "stream",
     "text": [
      "Target (function-relevant indices) indices: [10, 12, 18]\n"
     ]
    },
    {
     "data": {
      "image/png": "[encoded data removed]",
      "text/plain": [
       "<Figure size 1600x250 with 2 Axes>"
      ]
     },
     "metadata": {
      "image/png": {
       "height": 225,
       "width": 667
      }
     },
     "output_type": "display_data"
    }
   ],
   "source": [
    "context_length = 30  # T: context length\n",
    "s_sparse = 3  # s: sparsity (number of function-relevant indices)\n",
    "n_sequences = 10  # m: number of samples (sequences)\n",
    "data_gen = s_Sparse_Boolean(context_length, s_sparse)\n",
    "X_, y_ = data_gen.generate(n_sequences, verbose=False)\n",
    "correct_ids = data_gen.f_i\n",
    "print(f\"Target (function-relevant indices) indices: {correct_ids}\")\n",
    "\n",
    "plot_samples(X_, y_, correct_ids)"
   ]
  },
  {
   "cell_type": "code",
   "execution_count": 11,
   "metadata": {
    "cellView": "form",
    "execution": {}
   },
   "outputs": [
    {
     "data": {
      "application/vnd.jupyter.widget-view+json": {
       "model_id": "8d9149027a9f4127b984adc983d759e3",
       "version_major": 2,
       "version_minor": 0
      },
      "text/plain": [
       "Tab(children=(Output(), Output(), Output()), selected_index=0, titles=('Youtube', 'Bilibili', 'Osf'))"
      ]
     },
     "metadata": {},
     "output_type": "display_data"
    }
   ],
   "source": [
    "# @title Video 1: Video 1 Name  # put in the title of your video\n",
    "# note the libraries are imported here on purpose\n",
    "\n",
    "###@@@ for konstanine. a question, why isn't this above in the list of cells?\n",
    "\n",
    "from ipywidgets import widgets\n",
    "from IPython.display import YouTubeVideo\n",
    "from IPython.display import IFrame\n",
    "from IPython.display import display\n",
    "\n",
    "\n",
    "class PlayVideo(IFrame):\n",
    "  def __init__(self, id, source, page=1, width=400, height=300, **kwargs):\n",
    "    self.id = id\n",
    "    if source == 'Bilibili':\n",
    "      src = f'https://player.bilibili.com/player.html?bvid={id}&page={page}'\n",
    "    elif source == 'Osf':\n",
    "      src = f'https://mfr.ca-1.osf.io/render?url=https://osf.io/download/{id}/?direct%26mode=render'\n",
    "    super(PlayVideo, self).__init__(src, width, height, **kwargs)\n",
    "\n",
    "\n",
    "def display_videos(video_ids, W=400, H=300, fs=1):\n",
    "  tab_contents = []\n",
    "  for i, video_id in enumerate(video_ids):\n",
    "    out = widgets.Output()\n",
    "    with out:\n",
    "      if video_ids[i][0] == 'Youtube':\n",
    "        video = YouTubeVideo(id=video_ids[i][1], width=W,\n",
    "                             height=H, fs=fs, rel=0)\n",
    "        print(f'Video available at https://youtube.com/watch?v={video.id}')\n",
    "      else:\n",
    "        video = PlayVideo(id=video_ids[i][1], source=video_ids[i][0], width=W,\n",
    "                          height=H, fs=fs, autoplay=False)\n",
    "        if video_ids[i][0] == 'Bilibili':\n",
    "          print(f'Video available at https://www.bilibili.com/video/{video.id}')\n",
    "        elif video_ids[i][0] == 'Osf':\n",
    "          print(f'Video available at https://osf.io/{video.id}')\n",
    "      display(video)\n",
    "    tab_contents.append(out)\n",
    "  return tab_contents\n",
    "\n",
    "# curriculum or production team will provide these ids\n",
    "video_ids = [('Youtube', '<video_id_1>'), ('Bilibili', '<video_id_2>'), ('Osf', '<video_id_3>')]\n",
    "tab_contents = display_videos(video_ids, W=854, H=480)\n",
    "tabs = widgets.Tab()\n",
    "tabs.children = tab_contents\n",
    "for i in range(len(tab_contents)):\n",
    "  tabs.set_title(i, video_ids[i][0])\n",
    "display(tabs)"
   ]
  },
  {
   "cell_type": "code",
   "execution_count": 12,
   "metadata": {
    "cellView": "form",
    "execution": {}
   },
   "outputs": [
    {
     "data": {
      "application/vnd.jupyter.widget-view+json": {
       "model_id": "a063985d77ac4750beabc475ea37ae01",
       "version_major": 2,
       "version_minor": 0
      },
      "text/plain": [
       "VBox(children=(VBox(children=(HBox(children=(Button(description='🙂', layout=Layout(height='auto', padding='0.5…"
      ]
     },
     "metadata": {},
     "output_type": "display_data"
    }
   ],
   "source": [
    "# @title Submit your feedback\n",
    "content_review(f\"{feedback_prefix}_Video_1_Name\")"
   ]
  },
  {
   "cell_type": "markdown",
   "metadata": {
    "execution": {}
   },
   "source": [
    "### Exercise 1.1: Multi-Layer Perceptron\n",
    "\n",
    "Multi-Layer Percepton (MLP) layers are a key part of most deep learning architectures. Theoretically, a neural network with one wide enough (i.e. with enough learnable parameters) hidden MLP layer, enough training samples, and training iterations, is a universal function approximator. But in practice, these models tend to be extremely limited in their representation strength. Nonetheless, they are often a good place to start from.\n",
    "\n",
    "Below we will train an MLP with one hidden layer on the s-sparse AND dataset. You should be able to evaluate the performance and generalization of the model for the given task."
   ]
  },
  {
   "cell_type": "markdown",
   "metadata": {},
   "source": [
    "#### Discussion\n",
    "* What are the symmetries in a fully connected MLP?\n",
    "* Why do MLPs often fall behind other architectures in representation learning and generalization?"
   ]
  },
  {
   "cell_type": "markdown",
   "metadata": {},
   "source": [
    "#### Task\n",
    "First, evaluate and discuss the performance of the model! Then Change the setup (through hyperparameters) such that the model performs better on the validation set (empirical generalization)."
   ]
  },
  {
   "cell_type": "code",
   "execution_count": 46,
   "metadata": {},
   "outputs": [
    {
     "name": "stdout",
     "output_type": "stream",
     "text": [
      "Number of model's learnable parameters: 89857\n"
     ]
    }
   ],
   "source": [
    "# # Hyperparameters\n",
    "context_length = 30  # T: context length\n",
    "s_sparse = 3  # s: sparsity (number of function-relevant indices)\n",
    "B_train = 50  # batch size for training (number of training samples)\n",
    "B_valid = 500  # batch size for validation  (number of validation samples)\n",
    "hidden_layers = [512, 128, 64]  # the number of hidden units in each layer [H1, H2, ...]\n",
    "etta = 1e-3  # learning rate\n",
    "n_epochs = 1000  # number of epochs\n",
    "\n",
    "# # Data generation\n",
    "data_gen = s_Sparse_Boolean(context_length, s_sparse)\n",
    "X_train, y_train = data_gen.generate(B_train, split=\"train\", verbose=False)\n",
    "X_valid, y_valid = data_gen.generate(B_valid, split=\"valid\", verbose=False)\n",
    "\n",
    "# # model, optimizer, and criterion \n",
    "mlp_model = BinaryMLP(context_length, hidden_layers, 1)\n",
    "optimizer = torch.optim.Adam(mlp_model.parameters(), lr=etta, weight_decay=1e-4)\n",
    "criterion = torch.nn.BCELoss()\n",
    "print(f\"Number of model's learnable parameters: {get_n_parameters(mlp_model)}\")"
   ]
  },
  {
   "cell_type": "code",
   "execution_count": 47,
   "metadata": {},
   "outputs": [
    {
     "name": "stdout",
     "output_type": "stream",
     "text": [
      "Training loss: 0.000, accuracy: 1.000\n",
      "Validation loss: 0.725, accuracy: 0.826\n"
     ]
    },
    {
     "data": {
      "image/png": "[encoded data removed]",
      "text/plain": [
       "<Figure size 1500x400 with 2 Axes>"
      ]
     },
     "metadata": {
      "image/png": {
       "height": 389,
       "width": 1475
      }
     },
     "output_type": "display_data"
    }
   ],
   "source": [
    "# # Training and evaluation\n",
    "t_loss, t_acc = trainer(mlp_model, optimizer, criterion, n_epochs, X_train.float(), y_train, device=device, verbose=False)\n",
    "v_loss, v_acc = evaluator(mlp_model, criterion, X_valid.float(), y_valid, device=device)\n",
    "print(f\"Training loss: {t_loss[-1]:.3f}, accuracy: {t_acc[-1]:.3f}\")\n",
    "print(f\"Validation loss: {v_loss:.3f}, accuracy: {v_acc:.3f}\")\n",
    "plot_loss_accuracy(t_loss, t_acc, v_loss, v_acc)"
   ]
  },
  {
   "cell_type": "markdown",
   "metadata": {},
   "source": []
  },
  {
   "cell_type": "code",
   "execution_count": null,
   "metadata": {
    "cellView": "form",
    "execution": {},
    "pycharm": {
     "name": "#%%\n"
    }
   },
   "outputs": [],
   "source": [
    "# @markdown *Execute this cell to enable the array multiplication function: `multiply_array`*\n",
    "\n",
    "\n",
    "def multiply_array(x, c, seed):\n",
    "  \"\"\"Multiply every element in an array by a provided value\n",
    "\n",
    "  Args:\n",
    "    x (ndarray): An array of shape (N,)\n",
    "    c (scalar): multiplicative factor\n",
    "    seed (integer): random seed\n",
    "\n",
    "  Returns:\n",
    "    ndarray: output of the multiplication\n",
    "  \"\"\"\n",
    "  np.random.seed(seed)\n",
    "  y = x * c + 4*np.random.randn()\n",
    "\n",
    "  return y"
   ]
  },
  {
   "cell_type": "markdown",
   "metadata": {
    "execution": {}
   },
   "source": [
    "Below is an example of a student exercise. Within each student exercise, there should be a `NotImplementedError` call that stops the notebook from executing fully so that students will pause and complete the exercise. Once they have completed the exercise, they may remove this function so that the cell will execute."
   ]
  },
  {
   "cell_type": "code",
   "execution_count": null,
   "metadata": {
    "execution": {},
    "pycharm": {
     "name": "#%%\n"
    }
   },
   "outputs": [],
   "source": [
    "def generic_function(x, seed):\n",
    "  \"\"\"Google style doc string. Brief summary of what function does here\n",
    "\n",
    "  Args:\n",
    "    x (ndarray): An array of shape (N,) that contains blah blah\n",
    "    seed (integer): random seed for reproducibility\n",
    "\n",
    "  Returns:\n",
    "    ndarray: The output is blah blah\n",
    "  \"\"\"\n",
    "  #################################################\n",
    "  ## TODO for students: details of what they should do ##\n",
    "  # Fill remove the following line of code one you have completed the exercise:\n",
    "  raise NotImplementedError(\"Student exercise: say what they should have done\")\n",
    "  #################################################\n",
    "\n",
    "  # Have a comment for every line of code they need to write, and when possible have\n",
    "  # variables written with ellipses where they should fill in or ellipses where they should\n",
    "  # fill in inputs to functions\n",
    "  y = multiply_array(..., 5, seed)\n",
    "\n",
    "  # Another comment because they need to add another line of code\n",
    "  z = ...\n",
    "\n",
    "  return z\n",
    "\n",
    "\n",
    "x = np.array([4, 5, 6])\n",
    "\n",
    "# We usually define the plotting function in the hidden Helper Functions\n",
    "# so students don't have to see a bunch of boilerplate matplotlib code\n",
    "\n",
    "## Uncomment the code below to test your function\n",
    "\n",
    "# z = generic_function(x, seed=2021)\n",
    "# plotting_z(z)"
   ]
  },
  {
   "cell_type": "markdown",
   "metadata": {
    "execution": {}
   },
   "source": [
    "---\n",
    "\n",
    "Please note, there **must** be a corresponding 'solution' code cell to all student exercises. These solutions are useful to the teaching assistants in our course as well as for those using the material asynchornously.\n",
    "\n",
    "***Editor guideline for exercise solution formatting:***\n",
    "\n",
    "1. Must include `# to_remove solution` in the first line of solution code cell\n",
    "2. Do not include the fenced (`#####`) block that raises a `NotImplementedError`\n",
    "3. Include valid code replacing all ellipses (`...`)\n",
    "4. Code that uses or depends on the completed function/lines is uncommented\n",
    "6. **All other comments and code should be identical**\n",
    "    \n",
    "---\n",
    "\n",
    "An example of a solution cell to the exercise posed above:"
   ]
  },
  {
   "cell_type": "code",
   "execution_count": null,
   "metadata": {
    "execution": {}
   },
   "outputs": [],
   "source": [
    "# to_remove solution\n",
    "def generic_function(x, seed):\n",
    "  \"\"\"Google style doc string. Brief summary of what function does here\n",
    "\n",
    "  Args:\n",
    "    x (ndarray): An array of shape (N,) that contains blah blah\n",
    "    seed (integer): random seed for reproducibility\n",
    "\n",
    "  Returns:\n",
    "    ndarray: The output is blah blah\n",
    "  \"\"\"\n",
    "\n",
    "  # Have a comment for every line of code they need to write, and when possible have\n",
    "  # variables written with ellipses where they should fill in or ellipses where they should\n",
    "  # fill in inputs to functions\n",
    "  y = multiply_array(x, 5, seed)\n",
    "\n",
    "  # Another comment because they need to add another line of code\n",
    "  z = y + 6\n",
    "\n",
    "  return z\n",
    "\n",
    "\n",
    "x = np.array([4, 5, 6])\n",
    "\n",
    "# We usually define the plotting function in the hidden Helper Functions\n",
    "# so students don't have to see a bunch of boilerplate matplotlib code\n",
    "\n",
    "## Uncomment the code below to test your function\n",
    "\n",
    "# z = generic_function(x, seed=2021)\n",
    "# plotting_z(z)"
   ]
  },
  {
   "cell_type": "code",
   "execution_count": null,
   "metadata": {
    "cellView": "form",
    "execution": {}
   },
   "outputs": [],
   "source": [
    "# @title Submit your feedback\n",
    "content_review(f\"{feedback_prefix}_name_of_Exercise\")"
   ]
  },
  {
   "cell_type": "markdown",
   "metadata": {
    "execution": {}
   },
   "source": [
    "---\n",
    "\n",
    "## Interactive Demo 1.1: Name of demo\n",
    "\n",
    "Here, we will demonstrate how to create a widget if you would like to use a widget to demonstrate something. Make sure the use a @markdown as the first line in the cell to hide the contents by default, because the code to make the widget is often pretty ugly and not important for the students to see.\n",
    "\n",
    "If the widget makes use of a function that must be completed as part of an exercise, you may want to re-implement the correct version of the function inside the widget cell, so that it is useful for a student who got completely stuck."
   ]
  },
  {
   "cell_type": "code",
   "execution_count": null,
   "metadata": {
    "cellView": "form",
    "execution": {}
   },
   "outputs": [],
   "source": [
    "# @markdown Make sure you execute this cell to enable the widget!\n",
    "\n",
    "x = np.arange(-10, 11, 0.1)\n",
    "\n",
    "\n",
    "def gaussian(x, mu, sigma):\n",
    "  px = np.exp(-1 / 2 / sigma**2 * (mu - x) ** 2)\n",
    "  px = px / px.sum()\n",
    "  return px\n",
    "\n",
    "\n",
    "@widgets.interact\n",
    "def plot_gaussian(mean=(-10, 10, .5), std=(.5, 10, .5)):\n",
    "  plt.plot(x, gaussian(x, mean, std))"
   ]
  },
  {
   "cell_type": "markdown",
   "metadata": {
    "execution": {}
   },
   "source": [
    "There shoud be discussion questions posed about the interactive demo (and coding exercises possibly). "
   ]
  },
  {
   "cell_type": "markdown",
   "metadata": {
    "execution": {}
   },
   "source": [
    "### Interactive Demo 1.1 Discussion\n",
    "\n",
    "1. Discussion question 1\n",
    "2. Discussion question 2"
   ]
  },
  {
   "cell_type": "markdown",
   "metadata": {
    "execution": {}
   },
   "source": [
    "You must include an explanation for each discussion question using the following cell as a guide:"
   ]
  },
  {
   "cell_type": "code",
   "execution_count": null,
   "metadata": {
    "execution": {}
   },
   "outputs": [],
   "source": [
    "#to_remove explanation\n",
    "\n",
    "\"\"\"\n",
    "Discussion: Write a dicussion about/answers to any open-ended questions you pose (either about a demo or elsewhere)\n",
    "\n",
    "You can write a paragraph or two of nice didactic text\n",
    "within a single comment.\n",
    "\n",
    "From the example above:\n",
    "1. Answer to discussion question 1.\n",
    "2. Answer to discussion question 2.\n",
    "\"\"\";"
   ]
  },
  {
   "cell_type": "markdown",
   "metadata": {
    "execution": {}
   },
   "source": [
    "**Editor guideline**: note that the form header for the cell above is **to_remove explanation**, not **to_remove solution.** This line is required, as is the triple quite block."
   ]
  },
  {
   "cell_type": "markdown",
   "metadata": {
    "execution": {}
   },
   "source": [
    "---\n",
    "\n",
    "# Section 2: Notation Standards\n",
    "\n",
    "Estimated timing to here from start of tutorial: ? \n",
    "\n",
    "For notation standards, please refer to the course specific day lead instructions here: https://docs.neuromatch.io/p/npByLKa5tvx9kY/Course-Specific-Day-Lead-and-Project-Lead-Instructions"
   ]
  },
  {
   "cell_type": "markdown",
   "metadata": {
    "execution": {}
   },
   "source": [
    "---\n",
    "\n",
    "# Section 3: Name of Section 3\n",
    "\n",
    "Estimated timing to here from start of tutorial: ?\n",
    "\n",
    "An additional example section\n",
    "\n",
    "Separate with lines and add more content here! Depending on how the videos were created, you may or may not have a separate video for each section"
   ]
  },
  {
   "cell_type": "markdown",
   "metadata": {
    "execution": {}
   },
   "source": [
    "## Coding Exercise 3: Name\n",
    "\n",
    "This exercise is in this section (not in a subsection) so has a level 2 header."
   ]
  },
  {
   "cell_type": "markdown",
   "metadata": {
    "execution": {}
   },
   "source": [
    "---\n",
    "\n",
    "## Think: Name of discussion topic\n",
    "\n",
    "In addition to code exercises and interactive demos, you can have \"discussion exercises\" where students discuss open-ended questions. Each should roughly replace a code exercise so take about 10 minutes.\n",
    "\n",
    "E.g.: What do you think contributes to a good learning experience? Take 2 minutes to think in silence, then discuss as a group (~10 minutes).\n",
    "\n",
    "You can then include an airtable form through which students can write down their thoughts. This helps us to see how students are thinking (as we can read the responses). You should also still include the explanation cell with the answer or some discussion to aid students."
   ]
  },
  {
   "cell_type": "code",
   "execution_count": null,
   "metadata": {
    "execution": {}
   },
   "outputs": [],
   "source": [
    "# airtable\n",
    "# relevant_variable_name: text"
   ]
  },
  {
   "cell_type": "markdown",
   "metadata": {
    "execution": {}
   },
   "source": [
    "Editor guideline: note that to notify us where you'd like an airtable input form, use this special syntax. The first line is \"#\n",
    "\n",
    "- First line is # airtable\n",
    "- Relevant variable name on the second line should be something related to the question you're asking (an identifier). For example it could be \"learning_experience_contribs\" in this example. It should be a valid Python variable (no spaces, don't start with numbers).\n",
    "- You can have different types of inputs: text, numerical, or multiple choice.\n",
    "\n",
    "If you want a text answer, use # relevant_variable_name: text\n",
    "If you want a numerical answer, use # relevant_variable_name: number\n",
    "If you want a multiple choice answer, use # relevant_variable_name: [option1, option2, option3] where you fill out what the options are."
   ]
  },
  {
   "cell_type": "code",
   "execution_count": null,
   "metadata": {
    "execution": {}
   },
   "outputs": [],
   "source": [
    "# to_remove explanation\n",
    "\n",
    "\"\"\"\n",
    "Discussion: Write a dicussion about/answers to any open-ended questions you pose (either about a demo or elsewhere)\n",
    "\n",
    "You can write a paragraph or two of nice didactic text\n",
    "within a single comment.\n",
    "\"\"\";"
   ]
  },
  {
   "cell_type": "code",
   "execution_count": null,
   "metadata": {
    "cellView": "form",
    "execution": {}
   },
   "outputs": [],
   "source": [
    "# @title Submit your feedback\n",
    "content_review(f\"{feedback_prefix}_Name_of_Discussion_Topic\")"
   ]
  },
  {
   "cell_type": "markdown",
   "metadata": {
    "execution": {}
   },
   "source": [
    "---\n",
    "# Summary\n",
    "\n",
    "*Estimated timing of tutorial: [minutes]* [provide the estimated time for the completing of the entire tutorail]\n",
    "\n",
    "Have a summary of what they learned with specific points.\n",
    "\n",
    "1. Specific point A\n",
    "\n",
    "2. Specific point B"
   ]
  },
  {
   "cell_type": "markdown",
   "metadata": {
    "execution": {}
   },
   "source": [
    "## Bonus: Name of Bonus section\n",
    "\n",
    "Add extra text that you want students to have for reference later but that will make reading times too long during tutorials. You can have multiple Bonus sections if you'd like, just number them as Bonus 1: Name, Bonus 2: Name, etc.\n",
    "\n",
    "This can also serve as more advanced content for advanced students or those taking the course asyncrhonously.\n",
    "\n",
    "You should not have bonus content interleaved into the tutorial."
   ]
  }
 ],
 "metadata": {
  "colab": {
   "collapsed_sections": [],
   "include_colab_link": true,
   "name": "W1D2_Tutorial1",
   "provenance": [],
   "toc_visible": true
  },
  "kernel": {
   "display_name": "Python 3",
   "language": "python",
   "name": "python3"
  },
  "kernelspec": {
   "display_name": "Python 3 (ipykernel)",
   "language": "python",
   "name": "python3"
  },
  "language_info": {
   "codemirror_mode": {
    "name": "ipython",
    "version": 3
   },
   "file_extension": ".py",
   "mimetype": "text/x-python",
   "name": "python",
   "nbconvert_exporter": "python",
   "pygments_lexer": "ipython3",
   "version": "3.9.18"
  }
 },
 "nbformat": 4,
 "nbformat_minor": 4
}
